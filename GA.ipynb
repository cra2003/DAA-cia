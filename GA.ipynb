{
 "cells": [
  {
   "cell_type": "code",
   "execution_count": 1,
   "metadata": {},
   "outputs": [],
   "source": [
    "import numpy as np\n",
    "import pandas as pd\n",
    "from keras.models import Sequential\n",
    "from keras.layers import Dense\n",
    "from keras import initializers\n",
    "from sklearn.metrics import classification_report\n",
    "from sklearn.model_selection import train_test_split\n",
    "from deap import algorithms, base, creator, tools\n",
    "\n",
    "df = pd.read_csv('/Users/cra/Downloads/Bank_Personal_Loan_Modelling.csv')\n",
    "\n",
    "df = df[['Age', 'Experience', 'Income', 'Family', 'CCAvg',\n",
    "         'Education', 'Mortgage', 'Securities Account', 'CD Account',\n",
    "         'Online', 'CreditCard', 'Personal Loan']]"
   ]
  },
  {
   "cell_type": "code",
   "execution_count": 2,
   "metadata": {},
   "outputs": [],
   "source": [
    "x = df.iloc[:,:-1].values\n",
    "y = df.iloc[:,-1].values\n",
    "\n",
    "X_train, X_test, y_train, y_test = train_test_split(x, y, random_state=104, test_size=0.25)\n"
   ]
  },
  {
   "cell_type": "code",
   "execution_count": 3,
   "metadata": {},
   "outputs": [
    {
     "name": "stdout",
     "output_type": "stream",
     "text": [
      "Epoch 1/20\n"
     ]
    },
    {
     "name": "stderr",
     "output_type": "stream",
     "text": [
      "2023-04-05 18:33:04.406255: W tensorflow/core/platform/profile_utils/cpu_utils.cc:128] Failed to get CPU frequency: 0 Hz\n"
     ]
    },
    {
     "name": "stdout",
     "output_type": "stream",
     "text": [
      "3750/3750 [==============================] - 1s 323us/step - loss: 0.3180 - accuracy: 0.8947\n",
      "Epoch 2/20\n",
      "3750/3750 [==============================] - 1s 325us/step - loss: 0.2588 - accuracy: 0.8971\n",
      "Epoch 3/20\n",
      "3750/3750 [==============================] - 1s 325us/step - loss: 0.2277 - accuracy: 0.9024\n",
      "Epoch 4/20\n",
      "3750/3750 [==============================] - 1s 309us/step - loss: 0.2169 - accuracy: 0.9040\n",
      "Epoch 5/20\n",
      "3750/3750 [==============================] - 1s 306us/step - loss: 0.1977 - accuracy: 0.9179\n",
      "Epoch 6/20\n",
      "3750/3750 [==============================] - 1s 309us/step - loss: 0.1839 - accuracy: 0.9235\n",
      "Epoch 7/20\n",
      "3750/3750 [==============================] - 1s 324us/step - loss: 0.1778 - accuracy: 0.9275\n",
      "Epoch 8/20\n",
      "3750/3750 [==============================] - 1s 327us/step - loss: 0.1714 - accuracy: 0.9304\n",
      "Epoch 9/20\n",
      "3750/3750 [==============================] - 1s 319us/step - loss: 0.1672 - accuracy: 0.9392\n",
      "Epoch 10/20\n",
      "3750/3750 [==============================] - 1s 311us/step - loss: 0.1667 - accuracy: 0.9357\n",
      "Epoch 11/20\n",
      "3750/3750 [==============================] - 1s 316us/step - loss: 0.1616 - accuracy: 0.9381\n",
      "Epoch 12/20\n",
      "3750/3750 [==============================] - 1s 323us/step - loss: 0.1610 - accuracy: 0.9387\n",
      "Epoch 13/20\n",
      "3750/3750 [==============================] - 1s 309us/step - loss: 0.1639 - accuracy: 0.9405\n",
      "Epoch 14/20\n",
      "3750/3750 [==============================] - 1s 315us/step - loss: 0.1613 - accuracy: 0.9379\n",
      "Epoch 15/20\n",
      "3750/3750 [==============================] - 1s 309us/step - loss: 0.1567 - accuracy: 0.9389\n",
      "Epoch 16/20\n",
      "3750/3750 [==============================] - 1s 309us/step - loss: 0.1567 - accuracy: 0.9392\n",
      "Epoch 17/20\n",
      "3750/3750 [==============================] - 1s 304us/step - loss: 0.1583 - accuracy: 0.9416\n",
      "Epoch 18/20\n",
      "3750/3750 [==============================] - 1s 304us/step - loss: 0.1518 - accuracy: 0.9411\n",
      "Epoch 19/20\n",
      "3750/3750 [==============================] - 1s 324us/step - loss: 0.1548 - accuracy: 0.9408\n",
      "Epoch 20/20\n",
      "3750/3750 [==============================] - 1s 304us/step - loss: 0.1496 - accuracy: 0.9451\n"
     ]
    },
    {
     "data": {
      "text/plain": [
       "<keras.callbacks.History at 0x284e03760>"
      ]
     },
     "execution_count": 3,
     "metadata": {},
     "output_type": "execute_result"
    }
   ],
   "source": [
    "model = Sequential()\n",
    "model.add(Dense(4, input_dim=X_train.shape[1], activation='relu'))\n",
    "model.add(Dense(1, activation='sigmoid', kernel_initializer=initializers.Zeros()))\n",
    "\n",
    "model.compile(loss='binary_crossentropy', optimizer='adam', metrics=['accuracy'])\n",
    "\n",
    "model.fit(X_train, y_train, epochs=20, batch_size=1)"
   ]
  },
  {
   "cell_type": "code",
   "execution_count": 4,
   "metadata": {},
   "outputs": [
    {
     "name": "stderr",
     "output_type": "stream",
     "text": [
      "/var/folders/5d/55480rsn6f9b9207_fgt7cgw0000gn/T/ipykernel_80697/1260059021.py:24: VisibleDeprecationWarning: Creating an ndarray from ragged nested sequences (which is a list-or-tuple of lists-or-tuples-or ndarrays with different lengths or shapes) is deprecated. If you meant to do this, you must specify 'dtype=object' when creating the ndarray.\n",
      "  return np.array(weights)\n"
     ]
    },
    {
     "name": "stdout",
     "output_type": "stream",
     "text": [
      "Generation 1\n",
      "Best individual: (0.9039999842643738,)\n",
      "Generation 2\n"
     ]
    },
    {
     "name": "stderr",
     "output_type": "stream",
     "text": [
      "/var/folders/5d/55480rsn6f9b9207_fgt7cgw0000gn/T/ipykernel_80697/1260059021.py:33: VisibleDeprecationWarning: Creating an ndarray from ragged nested sequences (which is a list-or-tuple of lists-or-tuples-or ndarrays with different lengths or shapes) is deprecated. If you meant to do this, you must specify 'dtype=object' when creating the ndarray.\n",
      "  return np.array(child)\n"
     ]
    },
    {
     "name": "stdout",
     "output_type": "stream",
     "text": [
      "Best individual: (0.9050666689872742,)\n",
      "Generation 3\n",
      "Best individual: (0.9039999842643738,)\n",
      "Generation 4\n",
      "Best individual: (0.9039999842643738,)\n",
      "Generation 5\n",
      "Best individual: (0.9039999842643738,)\n",
      "Generation 6\n",
      "Best individual: (0.9039999842643738,)\n",
      "Generation 7\n",
      "Best individual: (0.9039999842643738,)\n",
      "Generation 8\n",
      "Best individual: (0.9039999842643738,)\n",
      "Generation 9\n",
      "Best individual: (0.9039999842643738,)\n",
      "Generation 10\n",
      "Best individual: (0.9039999842643738,)\n"
     ]
    }
   ],
   "source": [
    "from keras import backend as K\n",
    "import random\n",
    "def fitness_func(weights):\n",
    "    model.set_weights(weights)\n",
    "    loss, accuracy = model.evaluate(X_train, y_train, verbose=0)\n",
    "    return accuracy,\n",
    "\n",
    "# Define the genetic algorithm parameters\n",
    "POPULATION_SIZE = 20\n",
    "PARENTS_PERCENTAGE = 0.5\n",
    "MUTATION_PERCENTAGE = 0.2\n",
    "GENERATIONS = 10\n",
    "\n",
    "# Define the genetic algorithm functions\n",
    "def create_individual():\n",
    "    weights = []\n",
    "    for layer in model.layers:\n",
    "        shape = layer.get_weights()[0].shape\n",
    "        biases_shape = layer.get_weights()[1].shape\n",
    "        w = np.random.randn(*shape)\n",
    "        b = np.random.randn(*biases_shape)\n",
    "        weights.append(w)\n",
    "        weights.append(b)\n",
    "    return np.array(weights)\n",
    "\n",
    "def crossover(parent_1, parent_2):\n",
    "    child = []\n",
    "    for i in range(len(parent_1)):\n",
    "        if random.random() < 0.5:\n",
    "            child.append(parent_1[i])\n",
    "        else:\n",
    "            child.append(parent_2[i])\n",
    "    return np.array(child)\n",
    "\n",
    "def mutate(individual):\n",
    "    for i in range(len(individual)):\n",
    "        if random.random() < MUTATION_PERCENTAGE:\n",
    "            shape = individual[i].shape\n",
    "            individual[i] += np.random.randn(*shape) * 0.1\n",
    "    return individual\n",
    "\n",
    "# Define the main function to run the genetic algorithm\n",
    "def main():\n",
    "    population = [create_individual() for _ in range(POPULATION_SIZE)]\n",
    "    for generation in range(GENERATIONS):\n",
    "        print(\"Generation\", generation+1)\n",
    "        fitness_scores = []\n",
    "        for individual in population:\n",
    "            fitness_scores.append((individual, fitness_func(individual)))\n",
    "        fitness_scores = sorted(fitness_scores, key=lambda x: x[1], reverse=True)\n",
    "        print(\"Best individual:\", fitness_scores[0][1])\n",
    "        parents = [x[0] for x in fitness_scores[:int(len(population)*PARENTS_PERCENTAGE)]]\n",
    "        new_population = parents[:]\n",
    "        for _ in range(int(len(population)*PARENTS_PERCENTAGE), POPULATION_SIZE):\n",
    "            parent_1 = random.choice(parents)\n",
    "            parent_2 = random.choice(parents)\n",
    "            child = crossover(parent_1, parent_2)\n",
    "            child = mutate(child)\n",
    "            new_population.append(child)\n",
    "        population = new_population\n",
    "    best_individual = fitness_scores[0][0]\n",
    "    model.set_weights(best_individual)\n",
    "main()"
   ]
  },
  {
   "cell_type": "code",
   "execution_count": null,
   "metadata": {},
   "outputs": [],
   "source": []
  }
 ],
 "metadata": {
  "kernelspec": {
   "display_name": "Python 3.10.8 64-bit",
   "language": "python",
   "name": "python3"
  },
  "language_info": {
   "codemirror_mode": {
    "name": "ipython",
    "version": 3
   },
   "file_extension": ".py",
   "mimetype": "text/x-python",
   "name": "python",
   "nbconvert_exporter": "python",
   "pygments_lexer": "ipython3",
   "version": "3.10.8"
  },
  "orig_nbformat": 4,
  "vscode": {
   "interpreter": {
    "hash": "aee8b7b246df8f9039afb4144a1f6fd8d2ca17a180786b69acc140d282b71a49"
   }
  }
 },
 "nbformat": 4,
 "nbformat_minor": 2
}
