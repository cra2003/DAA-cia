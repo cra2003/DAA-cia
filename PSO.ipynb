{
 "cells": [
  {
   "cell_type": "code",
   "execution_count": 1,
   "id": "e92500df",
   "metadata": {},
   "outputs": [],
   "source": [
    "\n",
    "import numpy as np\n",
    "import pandas as pd\n",
    "import matplotlib.pyplot as plt\n",
    "import seaborn as sns\n",
    "import random\n",
    "from sklearn.metrics import classification_report"
   ]
  },
  {
   "cell_type": "code",
   "execution_count": 2,
   "id": "27b8fa78",
   "metadata": {},
   "outputs": [],
   "source": [
    "df = pd.read_csv(\"Users/cra/Downloads/Bank_Personal_Loan_Modelling.csv\")"
   ]
  },
  {
   "cell_type": "code",
   "execution_count": 4,
   "id": "6aa8d55a",
   "metadata": {},
   "outputs": [],
   "source": [
    "\n",
    "df.drop([\"ID\", \"ZIP Code\"],axis=1,inplace=True)"
   ]
  },
  {
   "cell_type": "code",
   "execution_count": 6,
   "id": "a0f100eb",
   "metadata": {},
   "outputs": [
    {
     "name": "stdout",
     "output_type": "stream",
     "text": [
      "[ 1 19 15  9  8 13 27 24 10 39  5 23 32 41 30 14 18 21 28 31 11 16 20 35\n",
      "  6 25  7 12 26 37 17  2 36 29  3 22 -1 34  0 38 40 33  4 -2 42 -3 43]\n"
     ]
    }
   ],
   "source": [
    "df[\"Experience\"] = abs(df[\"Experience\"])"
   ]
  },
  {
   "cell_type": "code",
   "execution_count": 7,
   "id": "10481a9e",
   "metadata": {},
   "outputs": [
    {
     "data": {
      "text/plain": [
       "Index(['Age', 'Experience', 'Income', 'Family', 'CCAvg', 'Education',\n",
       "       'Mortgage', 'Personal Loan', 'Securities Account', 'CD Account',\n",
       "       'Online', 'CreditCard'],\n",
       "      dtype='object')"
      ]
     },
     "execution_count": 7,
     "metadata": {},
     "output_type": "execute_result"
    }
   ],
   "source": [
    "df.columns"
   ]
  },
  {
   "cell_type": "code",
   "execution_count": 8,
   "id": "c0df4086",
   "metadata": {},
   "outputs": [],
   "source": [
    "df = df[['Age', 'Experience', 'Income', 'Family', 'CCAvg','Education', 'Mortgage', 'Securities Account','CD Account', 'Online', 'CreditCard', 'Personal Loan']]"
   ]
  },
  {
   "cell_type": "code",
   "execution_count": 9,
   "id": "0b115140",
   "metadata": {},
   "outputs": [],
   "source": [
    "X = df.iloc[:,:-1].values\n",
    "Y = df.iloc[:,-1].values"
   ]
  },
  {
   "cell_type": "code",
   "execution_count": 10,
   "id": "bcd06381",
   "metadata": {},
   "outputs": [],
   "source": [
    "x,y = X,Y"
   ]
  },
  {
   "cell_type": "code",
   "execution_count": 11,
   "id": "1d8cad0f",
   "metadata": {},
   "outputs": [],
   "source": [
    "from sklearn.model_selection import train_test_split\n",
    "\n",
    "x_train,x_test,y_train,y_test = train_test_split(x,y,test_size=0.25,random_state=69)"
   ]
  },
  {
   "cell_type": "code",
   "execution_count": 12,
   "id": "1b7bd982",
   "metadata": {},
   "outputs": [],
   "source": [
    "from sklearn.preprocessing import StandardScaler\n",
    "\n",
    "sc = StandardScaler()\n",
    "x_train = sc.fit_transform(x_train)\n",
    "x_test = sc.transform(x_test)"
   ]
  },
  {
   "cell_type": "code",
   "execution_count": 14,
   "id": "d1f1c3f1",
   "metadata": {},
   "outputs": [],
   "source": [
    "import torch\n",
    "from torch.utils.data import DataLoader, TensorDataset"
   ]
  },
  {
   "cell_type": "code",
   "execution_count": 15,
   "id": "5dd4e554",
   "metadata": {},
   "outputs": [],
   "source": [
    "BATCH_SIZE = 1"
   ]
  },
  {
   "cell_type": "code",
   "execution_count": 16,
   "id": "53b5e253",
   "metadata": {},
   "outputs": [],
   "source": [
    "train_x = torch.from_numpy(x_train).to(torch.float32)\n",
    "train_y = torch.from_numpy(y_train).to(torch.float32)"
   ]
  },
  {
   "cell_type": "code",
   "execution_count": 18,
   "id": "83535d93",
   "metadata": {},
   "outputs": [],
   "source": [
    "data = TensorDataset(train_x,train_y)\n",
    "data = DataLoader(data,batch_size=BATCH_SIZE,shuffle=True)"
   ]
  },
  {
   "cell_type": "code",
   "execution_count": 19,
   "id": "d4d0b641",
   "metadata": {},
   "outputs": [],
   "source": [
    "class Model(torch.nn.Module):\n",
    "    \n",
    "    def __init__(self):\n",
    "        super(Model,self).__init__()\n",
    "        \n",
    "        self.layer1 = torch.nn.Linear(13,17)\n",
    "        self.layer2 = torch.nn.Linear(17,1)\n",
    "        self.sigmoid = torch.nn.Sigmoid()\n",
    "        self.relu = torch.nn.ReLU()\n",
    "        \n",
    "    def forward(self, x):\n",
    "        x = self.layer1(x)\n",
    "        x = self.relu(x)\n",
    "        x = self.layer2(x)\n",
    "        x = self.sigmoid(x)\n",
    "        return x"
   ]
  },
  {
   "cell_type": "code",
   "execution_count": 20,
   "id": "4e1e2959",
   "metadata": {},
   "outputs": [
    {
     "name": "stdout",
     "output_type": "stream",
     "text": [
      "Model(\n",
      "  (layer1): Linear(in_features=11, out_features=16, bias=True)\n",
      "  (layer2): Linear(in_features=16, out_features=1, bias=True)\n",
      "  (sigmoid): Sigmoid()\n",
      "  (relu): ReLU()\n",
      ")\n"
     ]
    }
   ],
   "source": [
    "model = Model()\n",
    "print(model)"
   ]
  },
  {
   "cell_type": "code",
   "execution_count": 21,
   "id": "a22934dd",
   "metadata": {},
   "outputs": [
    {
     "name": "stdout",
     "output_type": "stream",
     "text": [
      "Dim :  209\n",
      "Layers Shape :  [(16, 11), (16,), (1, 16), (1,)]\n",
      "Layers Size :  [176, 16, 16, 1]\n"
     ]
    }
   ],
   "source": [
    "from pyswarms.single import GlobalBestPSO\n",
    "torch.manual_seed(420)\n",
    "torch.set_grad_enabled(False)\n",
    "\n",
    "model = Model()\n",
    "param = np.concatenate([i.numpy().flatten() for i in model.parameters()])\n",
    "shape = [i.numpy().shape for i in model.parameters()]\n",
    "size = [i[0]*i[1] if len(i) == 2 else i[0] for i in shape]\n",
    "\n",
    "print(\"Dim : \", len(param))\n",
    "print(\"Layers Shape : \", shape)\n",
    "print(\"Layers Size : \", size)"
   ]
  },
  {
   "cell_type": "code",
   "execution_count": 22,
   "id": "a6a43b9f",
   "metadata": {},
   "outputs": [],
   "source": [
    "def objective_function(particle,shape=shape,size=size):\n",
    "    accuracy = []\n",
    "    output = []\n",
    "    for par in particle:\n",
    "        param = list()\n",
    "        cum_sum = 0\n",
    "        for i in range(len(size)):\n",
    "            array = par[cum_sum : cum_sum + size[i]]\n",
    "            array = array.reshape(shape[i])\n",
    "            cum_sum += size[i]\n",
    "            param.append(array)\n",
    "        param = np.array(param, dtype=\"object\")\n",
    "        output.append(param)\n",
    "    \n",
    "    for i in range(len(output)):\n",
    "        \n",
    "        model = Model()\n",
    "        for idx,wei in enumerate(model.parameters()):\n",
    "            wei.data = (torch.tensor(output[i][idx])).to(torch.float32)\n",
    "        \n",
    "        y_pred = model(train_x)\n",
    "        y_pred = torch.where(y_pred>=0.5, 1, 0).flatten()\n",
    "        acc = (y_pred == train_y).sum().float().item() / len(data.dataset)\n",
    "        accuracy.append(1 - acc) \n",
    "        \n",
    "    return accuracy"
   ]
  },
  {
   "cell_type": "code",
   "execution_count": 23,
   "id": "b7bbd862",
   "metadata": {},
   "outputs": [],
   "source": [
    "\n",
    "options = {'c1': 0.6, 'c2': 0.3, 'w': 0.1}\n",
    "dim = len(param)\n",
    "x_max = 1.0 * np.ones(dim)\n",
    "x_min = -1.0 * x_max\n",
    "bounds = (x_min, x_max)\n",
    "\n",
    "pso = GlobalBestPSO(n_particles=500, dimensions=209, options=options, bounds=bounds)"
   ]
  },
  {
   "cell_type": "code",
   "execution_count": 24,
   "id": "5347cac1",
   "metadata": {},
   "outputs": [
    {
     "name": "stderr",
     "output_type": "stream",
     "text": [
      "2023-04-04 23:18:27,441 - pyswarms.single.global_best - INFO - Optimize for 50 iters with {'c1': 0.6, 'c2': 0.3, 'w': 0.1}\n",
      "pyswarms.single.global_best: 100%|█████████████████████████████████████████████████████████████|50/50, best_cost=0.0483\n",
      "2023-04-04 23:18:40,831 - pyswarms.single.global_best - INFO - Optimization finished | best cost: 0.04826666666666668, best pos: [ 4.16909602e-01 -3.28622096e-01 -1.08419969e-01 -1.46689801e-01\n",
      "  2.35199311e-01  6.06260628e-01 -1.95440160e-01 -4.02072627e-01\n",
      " -5.13891974e-01 -3.11041541e-01 -1.48321730e-01 -2.43779202e-01\n",
      " -5.70915090e-01  3.83220977e-01 -1.06306853e-01  3.29542994e-01\n",
      "  5.91991436e-01  5.95688800e-01  1.80487536e-01  1.10245236e-01\n",
      " -4.04280621e-01  4.52045076e-01 -1.29524272e-02 -1.51995034e-01\n",
      "  2.14406612e-01  9.07286363e-02 -8.65534458e-02 -9.54899804e-02\n",
      " -1.60334727e-01  8.12200241e-02  3.73922504e-01  1.49851243e-01\n",
      "  1.32805298e-01  3.74202542e-01  3.05848384e-01  8.08967615e-03\n",
      " -2.12997794e-01 -3.72947095e-02 -1.08373571e-01 -2.58376947e-01\n",
      "  1.86936587e-01  2.61612576e-01  1.43861552e-01 -5.50431949e-02\n",
      "  9.97826983e-02  1.04014774e-01  2.30889605e-01 -9.90511071e-02\n",
      "  4.47524546e-01  2.22085548e-01  1.91488487e-01 -1.44768672e-01\n",
      "  6.94232723e-01 -3.19592083e-01 -4.25942599e-01  4.72941109e-01\n",
      " -4.42686622e-01  3.22695750e-01  8.99855746e-02 -1.13284050e-01\n",
      "  3.93830869e-01 -1.06282679e-02 -9.14247844e-02  3.03957574e-01\n",
      "  2.10406271e-02 -3.34514967e-02  2.38656883e-02  7.96725828e-01\n",
      "  4.44311966e-01  9.05477345e-02  1.32118214e-01  3.03943633e-01\n",
      "  1.32111290e-02  4.37432315e-01 -1.86251847e-01  3.44214620e-01\n",
      "  2.55892830e-01  6.36708310e-01 -2.04787052e-01 -2.94613374e-01\n",
      "  1.12454886e-01 -2.67812062e-01  2.35156681e-01  1.35297833e-01\n",
      "  1.56606977e-01  1.32037864e-01  3.00944381e-02  5.40993435e-02\n",
      "  5.77294450e-02 -8.22179768e-02 -3.53140149e-01  3.20336613e-02\n",
      " -1.87147195e-01  1.22059596e-01  1.88238926e-01 -1.63694131e-01\n",
      "  1.08002575e-01 -3.10238693e-01 -4.93402296e-02 -1.80543299e-02\n",
      " -2.31069230e-01  7.18155757e-02  2.14148707e-01  3.28944881e-02\n",
      " -1.51874999e-01  6.97096971e-04  3.13029597e-01 -4.53764231e-02\n",
      "  5.25114211e-01 -3.67954634e-01  4.02294549e-01 -3.09229601e-01\n",
      " -1.04729646e-01  1.89384087e-01  2.75442371e-01 -5.88329324e-01\n",
      "  1.29804805e-01 -1.12761478e-01 -6.10038568e-02 -1.98776928e-01\n",
      "  7.45586356e-02 -5.55331460e-02  1.37447145e-01 -3.97023598e-01\n",
      "  8.25179644e-02  2.46606017e-01  9.91634815e-02  4.09700411e-02\n",
      " -4.71268757e-01 -3.02071711e-01  6.26983115e-01 -2.99119834e-01\n",
      " -4.00864955e-02  5.78630639e-01  1.21676212e-01  2.17235124e-01\n",
      "  2.39122183e-01  8.09749980e-02 -4.09002859e-01 -3.86870707e-01\n",
      "  5.21656839e-01 -1.36096415e-02 -8.58182944e-02 -5.57588940e-01\n",
      "  6.45218987e-02  3.83374382e-01  2.67692907e-01  1.47540902e-01\n",
      " -2.64942218e-01 -1.46045566e-01  1.20981760e-01  4.19951782e-01\n",
      "  1.73970180e-01 -8.22123559e-02  5.48582498e-01  3.09777129e-01\n",
      " -4.33133477e-02  3.31501982e-01  4.39837434e-01  4.43828318e-01\n",
      " -2.85594977e-01  5.26027208e-01  1.91934479e-01 -2.12279934e-01\n",
      "  4.55825565e-01 -2.79917581e-01 -2.08449380e-01  5.02683291e-01\n",
      " -4.82883944e-01 -1.01671855e-02  1.38088073e-01  1.50326680e-01\n",
      " -1.81198482e-02  3.91656315e-01  1.01024887e-01 -1.77262356e-01\n",
      " -1.19058523e-01  4.42112487e-01 -7.55811189e-02  4.94793639e-01\n",
      "  1.07242100e-01  2.30154527e-01  3.07762099e-01  6.27346020e-01\n",
      "  1.22652590e-01  7.44876821e-01 -9.33060036e-02 -1.42894901e-01\n",
      "  1.34124782e-01 -2.72010567e-01  3.94164342e-01 -1.32981565e-01\n",
      "  9.07305528e-02 -1.71562592e-01  9.59955613e-03 -5.71071789e-01\n",
      "  2.44312078e-01  4.30258204e-01  2.33357017e-01 -3.76962367e-01\n",
      "  2.12897110e-02 -2.45398848e-01 -4.92833551e-01  1.80366419e-01\n",
      " -3.23623383e-03  2.49159742e-01  1.23401222e-01  1.68832387e-01\n",
      " -4.29325155e-01]\n"
     ]
    },
    {
     "name": "stdout",
     "output_type": "stream",
     "text": [
      "Accuracy :  0.9517333333333333\n"
     ]
    }
   ],
   "source": [
    "best_cost, best_parameters = pso.optimize(objective_function, iters=50)\n",
    "print(\"Accuracy : \", 1 - best_cost)"
   ]
  },
  {
   "cell_type": "markdown",
   "id": "a310810e",
   "metadata": {},
   "source": []
  },
  {
   "cell_type": "code",
   "execution_count": 25,
   "id": "dec9f178",
   "metadata": {},
   "outputs": [
    {
     "name": "stdout",
     "output_type": "stream",
     "text": [
      "Accuracy :  0.9517333333333333\n"
     ]
    }
   ],
   "source": [
    "# Converting the best vector to model\n",
    "\n",
    "result = []\n",
    "for par in [best_parameters]:\n",
    "    param = list()\n",
    "    cum_sum = 0\n",
    "    for i in range(len(size)):\n",
    "        array = par[cum_sum : cum_sum + size[i]]\n",
    "        array = array.reshape(shape[i])\n",
    "        cum_sum += size[i]\n",
    "        param.append(array)\n",
    "    param = np.array(param, dtype=\"object\")\n",
    "    result.append(param)\n",
    "\n",
    "best_model = Model()\n",
    "for idx,wei in enumerate(best_model.parameters()):\n",
    "    wei.data = (torch.tensor(result[0][idx])).to(torch.float32)\n",
    "\n",
    "# Calculate Accuracy\n",
    "y_pred = best_model(train_x)\n",
    "y_pred = torch.where(y_pred>=0.5, 1, 0).flatten()\n",
    "acc = (y_pred == train_y).sum().float().item() / len(data.dataset)\n",
    "print(\"Accuracy : \", acc)"
   ]
  },
  {
   "cell_type": "code",
   "execution_count": 28,
   "id": "b97279cb",
   "metadata": {},
   "outputs": [
    {
     "name": "stdout",
     "output_type": "stream",
     "text": [
      "              precision    recall  f1-score   support\n",
      "\n",
      "           0       0.99      0.96      0.98      1170\n",
      "           1       0.60      0.86      0.71        80\n",
      "\n",
      "    accuracy                           0.95      1250\n",
      "   macro avg       0.80      0.91      0.84      1250\n",
      "weighted avg       0.97      0.95      0.96      1250\n",
      "\n"
     ]
    }
   ],
   "source": [
    "y_pred = best_model(test_x)\n",
    "y_pred = torch.where(y_pred>=0.5, 1, 0).flatten()\n",
    "print(classification_report(y_pred,test_y))"
   ]
  }
 ],
 "metadata": {
  "kernelspec": {
   "display_name": "Python 3.10.8 64-bit",
   "language": "python",
   "name": "python3"
  },
  "language_info": {
   "codemirror_mode": {
    "name": "ipython",
    "version": 3
   },
   "file_extension": ".py",
   "mimetype": "text/x-python",
   "name": "python",
   "nbconvert_exporter": "python",
   "pygments_lexer": "ipython3",
   "version": "3.10.8"
  },
  "vscode": {
   "interpreter": {
    "hash": "aee8b7b246df8f9039afb4144a1f6fd8d2ca17a180786b69acc140d282b71a49"
   }
  }
 },
 "nbformat": 4,
 "nbformat_minor": 5
}
