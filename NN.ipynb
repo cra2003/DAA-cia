{
 "cells": [
  {
   "cell_type": "code",
   "execution_count": 15,
   "metadata": {},
   "outputs": [],
   "source": [
    "import numpy as np\n",
    "import pandas as pd\n",
    "from keras.models import Sequential\n",
    "from keras.layers import Dense\n",
    "from keras import initializers\n",
    "from sklearn.metrics import classification_report\n",
    "from sklearn.model_selection import train_test_split\n",
    "from deap import algorithms, base, creator, tools\n",
    "\n",
    "df = pd.read_csv('/Users/cra/Downloads/Bank_Personal_Loan_Modelling.csv')\n",
    "\n",
    "df = df[['Age', 'Experience', 'Income', 'Family', 'CCAvg',\n",
    "         'Education', 'Mortgage', 'Securities Account', 'CD Account',\n",
    "         'Online', 'CreditCard', 'Personal Loan']]"
   ]
  },
  {
   "cell_type": "code",
   "execution_count": 16,
   "metadata": {},
   "outputs": [],
   "source": [
    "x = df.iloc[:,:-1].values\n",
    "y = df.iloc[:,-1].values\n",
    "\n",
    "X_train, X_test, y_train, y_test = train_test_split(x, y, random_state=104, test_size=0.25)\n"
   ]
  },
  {
   "cell_type": "code",
   "execution_count": 4,
   "metadata": {},
   "outputs": [
    {
     "name": "stdout",
     "output_type": "stream",
     "text": [
      "Epoch 1/20\n"
     ]
    },
    {
     "name": "stderr",
     "output_type": "stream",
     "text": [
      "2023-04-05 14:53:56.495282: W tensorflow/core/platform/profile_utils/cpu_utils.cc:128] Failed to get CPU frequency: 0 Hz\n"
     ]
    },
    {
     "name": "stdout",
     "output_type": "stream",
     "text": [
      "3750/3750 [==============================] - 1s 315us/step - loss: 0.2841 - accuracy: 0.9000\n",
      "Epoch 2/20\n",
      "3750/3750 [==============================] - 1s 320us/step - loss: 0.2278 - accuracy: 0.9035\n",
      "Epoch 3/20\n",
      "3750/3750 [==============================] - 1s 327us/step - loss: 0.2154 - accuracy: 0.9035\n",
      "Epoch 4/20\n",
      "3750/3750 [==============================] - 1s 312us/step - loss: 0.2127 - accuracy: 0.9040\n",
      "Epoch 5/20\n",
      "3750/3750 [==============================] - 1s 307us/step - loss: 0.2069 - accuracy: 0.9040\n",
      "Epoch 6/20\n",
      "3750/3750 [==============================] - 1s 317us/step - loss: 0.2084 - accuracy: 0.9040\n",
      "Epoch 7/20\n",
      "3750/3750 [==============================] - 1s 351us/step - loss: 0.2060 - accuracy: 0.9040\n",
      "Epoch 8/20\n",
      "3750/3750 [==============================] - 1s 322us/step - loss: 0.2038 - accuracy: 0.9035\n",
      "Epoch 9/20\n",
      "3750/3750 [==============================] - 1s 317us/step - loss: 0.2002 - accuracy: 0.9040\n",
      "Epoch 10/20\n",
      "3750/3750 [==============================] - 2s 437us/step - loss: 0.1993 - accuracy: 0.9037\n",
      "Epoch 11/20\n",
      "3750/3750 [==============================] - 2s 407us/step - loss: 0.1982 - accuracy: 0.9040\n",
      "Epoch 12/20\n",
      "3750/3750 [==============================] - 1s 313us/step - loss: 0.1956 - accuracy: 0.9040\n",
      "Epoch 13/20\n",
      "3750/3750 [==============================] - 1s 304us/step - loss: 0.1936 - accuracy: 0.9040\n",
      "Epoch 14/20\n",
      "3750/3750 [==============================] - 1s 317us/step - loss: 0.1923 - accuracy: 0.9040\n",
      "Epoch 15/20\n",
      "3750/3750 [==============================] - 1s 313us/step - loss: 0.1898 - accuracy: 0.9040\n",
      "Epoch 16/20\n",
      "3750/3750 [==============================] - 1s 303us/step - loss: 0.1883 - accuracy: 0.9040\n",
      "Epoch 17/20\n",
      "3750/3750 [==============================] - 1s 298us/step - loss: 0.1905 - accuracy: 0.9040\n",
      "Epoch 18/20\n",
      "3750/3750 [==============================] - 1s 308us/step - loss: 0.1883 - accuracy: 0.9040\n",
      "Epoch 19/20\n",
      "3750/3750 [==============================] - 1s 299us/step - loss: 0.1852 - accuracy: 0.9040\n",
      "Epoch 20/20\n",
      "3750/3750 [==============================] - 1s 310us/step - loss: 0.1841 - accuracy: 0.9040\n"
     ]
    },
    {
     "data": {
      "text/plain": [
       "<keras.callbacks.History at 0x28cc6bb50>"
      ]
     },
     "execution_count": 4,
     "metadata": {},
     "output_type": "execute_result"
    }
   ],
   "source": [
    "model = Sequential()\n",
    "model.add(Dense(4, input_dim=X_train.shape[1], activation='relu'))\n",
    "model.add(Dense(1, activation='sigmoid', kernel_initializer=initializers.Zeros()))\n",
    "\n",
    "model.compile(loss='binary_crossentropy', optimizer='adam', metrics=['accuracy'])\n",
    "\n",
    "model.fit(X_train, y_train, epochs=20, batch_size=1)"
   ]
  },
  {
   "cell_type": "code",
   "execution_count": 17,
   "metadata": {},
   "outputs": [
    {
     "name": "stdout",
     "output_type": "stream",
     "text": [
      "40/40 [==============================] - 0s 317us/step\n",
      "              precision    recall  f1-score   support\n",
      "\n",
      "           0       0.98      0.90      0.94      1130\n",
      "           1       0.47      0.83      0.60       120\n",
      "\n",
      "    accuracy                           0.89      1250\n",
      "   macro avg       0.73      0.87      0.77      1250\n",
      "weighted avg       0.93      0.89      0.91      1250\n",
      "\n",
      "[[-1.11326145e-35  5.48254251e-01 -4.79594899e-34 -3.43734697e-02]\n",
      " [-2.74892981e-34 -4.96152341e-01  9.19278654e-35  7.36692622e-02]\n",
      " [ 4.08771870e-34 -1.13723852e-01  4.89171459e-34  7.05378279e-02]\n",
      " [-5.24894962e-36 -2.96764318e-02 -3.57398290e-34  1.23712271e-01]\n",
      " [-1.08136664e-34 -4.66635197e-01 -5.27051581e-34  2.32722168e-03]\n",
      " [-4.31852013e-34 -1.30992636e-01  3.57313089e-34  1.32996038e-01]\n",
      " [ 1.13172360e-34  9.86220036e-03  2.98373252e-34  3.06555536e-02]\n",
      " [ 5.31542382e-34 -3.72373015e-02 -1.17534741e-34  8.99466779e-03]\n",
      " [ 4.95697886e-34 -9.56067666e-02  5.11257023e-34  3.32246833e-02]\n",
      " [-3.29765838e-34  6.11582808e-02 -4.48092569e-34 -1.18998000e-02]\n",
      " [-5.82896792e-34  6.64348155e-02 -3.34043903e-34  8.83872993e-03]]\n",
      "[[ 0.00833046]\n",
      " [-0.64763504]\n",
      " [ 0.00432831]\n",
      " [ 0.05428006]]\n"
     ]
    }
   ],
   "source": [
    "y_pred = model.predict(X_test)\n",
    "y_pred = (y_pred > 0.2).astype(int)\n",
    "print(classification_report(y_test, y_pred))\n",
    "\n",
    "weights = model.get_weights()\n",
    "\n",
    "# Print the weights of the first layer\n",
    "print(weights[0])\n",
    "\n",
    "# Print the weights of the second layer\n",
    "print(weights[2])"
   ]
  },
  {
   "cell_type": "code",
   "execution_count": 8,
   "metadata": {},
   "outputs": [
    {
     "name": "stdout",
     "output_type": "stream",
     "text": [
      "Epoch 1/20\n",
      "3750/3750 [==============================] - 2s 446us/step - loss: 0.2960 - accuracy: 0.9013 - val_loss: 0.2465 - val_accuracy: 0.9040\n",
      "Epoch 2/20\n",
      "3750/3750 [==============================] - 2s 408us/step - loss: 0.2465 - accuracy: 0.9016 - val_loss: 0.2288 - val_accuracy: 0.9040\n",
      "Epoch 3/20\n",
      "3750/3750 [==============================] - 1s 396us/step - loss: 0.2309 - accuracy: 0.9037 - val_loss: 0.2232 - val_accuracy: 0.9040\n",
      "Epoch 4/20\n",
      "3750/3750 [==============================] - 1s 399us/step - loss: 0.2236 - accuracy: 0.9027 - val_loss: 0.2000 - val_accuracy: 0.9040\n",
      "Epoch 5/20\n",
      "3750/3750 [==============================] - 1s 393us/step - loss: 0.2172 - accuracy: 0.9032 - val_loss: 0.2025 - val_accuracy: 0.9040\n",
      "Epoch 6/20\n",
      "3750/3750 [==============================] - 2s 414us/step - loss: 0.2121 - accuracy: 0.9032 - val_loss: 0.2051 - val_accuracy: 0.9040\n",
      "Epoch 7/20\n",
      "3750/3750 [==============================] - 2s 403us/step - loss: 0.2093 - accuracy: 0.9040 - val_loss: 0.1921 - val_accuracy: 0.9040\n",
      "Epoch 8/20\n",
      "3750/3750 [==============================] - 2s 402us/step - loss: 0.2087 - accuracy: 0.9024 - val_loss: 0.1990 - val_accuracy: 0.9088\n",
      "Epoch 9/20\n",
      "3750/3750 [==============================] - 1s 397us/step - loss: 0.2095 - accuracy: 0.9043 - val_loss: 0.2179 - val_accuracy: 0.9072\n",
      "Epoch 10/20\n",
      "3750/3750 [==============================] - 2s 421us/step - loss: 0.2062 - accuracy: 0.9027 - val_loss: 0.1843 - val_accuracy: 0.9040\n",
      "Epoch 11/20\n",
      "3750/3750 [==============================] - 1s 399us/step - loss: 0.2091 - accuracy: 0.9019 - val_loss: 0.2000 - val_accuracy: 0.9048\n",
      "Epoch 12/20\n",
      "3750/3750 [==============================] - 1s 396us/step - loss: 0.2031 - accuracy: 0.9061 - val_loss: 0.1807 - val_accuracy: 0.9080\n",
      "Epoch 13/20\n",
      "3750/3750 [==============================] - 2s 403us/step - loss: 0.2062 - accuracy: 0.9032 - val_loss: 0.1793 - val_accuracy: 0.9088\n",
      "Epoch 14/20\n",
      "3750/3750 [==============================] - 2s 426us/step - loss: 0.2060 - accuracy: 0.9021 - val_loss: 0.1788 - val_accuracy: 0.9040\n",
      "Epoch 15/20\n",
      "3750/3750 [==============================] - 1s 398us/step - loss: 0.2058 - accuracy: 0.9016 - val_loss: 0.1940 - val_accuracy: 0.9080\n",
      "Epoch 16/20\n",
      "3750/3750 [==============================] - 1s 392us/step - loss: 0.2062 - accuracy: 0.9037 - val_loss: 0.1772 - val_accuracy: 0.9064\n",
      "Epoch 17/20\n",
      "3750/3750 [==============================] - 1s 393us/step - loss: 0.2035 - accuracy: 0.9075 - val_loss: 0.1834 - val_accuracy: 0.9040\n",
      "Epoch 18/20\n",
      "3750/3750 [==============================] - 1s 390us/step - loss: 0.2078 - accuracy: 0.9048 - val_loss: 0.1780 - val_accuracy: 0.9104\n",
      "Epoch 19/20\n",
      "3750/3750 [==============================] - 1s 388us/step - loss: 0.2057 - accuracy: 0.9027 - val_loss: 0.1919 - val_accuracy: 0.9056\n",
      "Epoch 20/20\n",
      "3750/3750 [==============================] - 1s 389us/step - loss: 0.2041 - accuracy: 0.9059 - val_loss: 0.1813 - val_accuracy: 0.9080\n"
     ]
    },
    {
     "data": {
      "text/plain": [
       "<keras.callbacks.History at 0x28cf861d0>"
      ]
     },
     "execution_count": 8,
     "metadata": {},
     "output_type": "execute_result"
    }
   ],
   "source": [
    "from keras import regularizers\n",
    "from keras.optimizers import Adam\n",
    "\n",
    "# Define the neural network architecture with L2 regularization in the first layer\n",
    "model = Sequential()\n",
    "model.add(Dense(4, input_dim=X_train.shape[1], activation='relu', kernel_regularizer=regularizers.l2(0.01)))\n",
    "model.add(Dense(1, activation='sigmoid', kernel_initializer=initializers.Zeros()))\n",
    "\n",
    "# Compile the model with the Adam optimizer and a learning rate of 0.001\n",
    "optimizer = Adam(learning_rate=0.001)\n",
    "model.compile(loss='binary_crossentropy', optimizer=optimizer, metrics=['accuracy'])\n",
    "\n",
    "# Train the model with L2 regularization\n",
    "model.fit(X_train, y_train, epochs=20, batch_size=1, validation_data=(X_test, y_test))\n"
   ]
  },
  {
   "cell_type": "code",
   "execution_count": 22,
   "metadata": {},
   "outputs": [
    {
     "name": "stderr",
     "output_type": "stream",
     "text": [
      "/var/folders/5d/55480rsn6f9b9207_fgt7cgw0000gn/T/ipykernel_76600/1260059021.py:24: VisibleDeprecationWarning: Creating an ndarray from ragged nested sequences (which is a list-or-tuple of lists-or-tuples-or ndarrays with different lengths or shapes) is deprecated. If you meant to do this, you must specify 'dtype=object' when creating the ndarray.\n",
      "  return np.array(weights)\n"
     ]
    },
    {
     "name": "stdout",
     "output_type": "stream",
     "text": [
      "Generation 1\n",
      "Best individual: (0.9039999842643738,)\n",
      "Generation 2\n"
     ]
    },
    {
     "name": "stderr",
     "output_type": "stream",
     "text": [
      "/var/folders/5d/55480rsn6f9b9207_fgt7cgw0000gn/T/ipykernel_76600/1260059021.py:33: VisibleDeprecationWarning: Creating an ndarray from ragged nested sequences (which is a list-or-tuple of lists-or-tuples-or ndarrays with different lengths or shapes) is deprecated. If you meant to do this, you must specify 'dtype=object' when creating the ndarray.\n",
      "  return np.array(child)\n"
     ]
    },
    {
     "name": "stdout",
     "output_type": "stream",
     "text": [
      "Best individual: (0.9039999842643738,)\n",
      "Generation 3\n",
      "Best individual: (0.9039999842643738,)\n",
      "Generation 4\n",
      "Best individual: (0.9039999842643738,)\n",
      "Generation 5\n",
      "Best individual: (0.9039999842643738,)\n",
      "Generation 6\n",
      "Best individual: (0.9039999842643738,)\n",
      "Generation 7\n",
      "Best individual: (0.9039999842643738,)\n",
      "Generation 8\n",
      "Best individual: (0.9039999842643738,)\n",
      "Generation 9\n",
      "Best individual: (0.9039999842643738,)\n",
      "Generation 10\n",
      "Best individual: (0.9039999842643738,)\n"
     ]
    }
   ],
   "source": [
    "from keras import backend as K\n",
    "import random\n",
    "def fitness_func(weights):\n",
    "    model.set_weights(weights)\n",
    "    loss, accuracy = model.evaluate(X_train, y_train, verbose=0)\n",
    "    return accuracy,\n",
    "\n",
    "# Define the genetic algorithm parameters\n",
    "POPULATION_SIZE = 20\n",
    "PARENTS_PERCENTAGE = 0.5\n",
    "MUTATION_PERCENTAGE = 0.2\n",
    "GENERATIONS = 10\n",
    "\n",
    "# Define the genetic algorithm functions\n",
    "def create_individual():\n",
    "    weights = []\n",
    "    for layer in model.layers:\n",
    "        shape = layer.get_weights()[0].shape\n",
    "        biases_shape = layer.get_weights()[1].shape\n",
    "        w = np.random.randn(*shape)\n",
    "        b = np.random.randn(*biases_shape)\n",
    "        weights.append(w)\n",
    "        weights.append(b)\n",
    "    return np.array(weights)\n",
    "\n",
    "def crossover(parent_1, parent_2):\n",
    "    child = []\n",
    "    for i in range(len(parent_1)):\n",
    "        if random.random() < 0.5:\n",
    "            child.append(parent_1[i])\n",
    "        else:\n",
    "            child.append(parent_2[i])\n",
    "    return np.array(child)\n",
    "\n",
    "def mutate(individual):\n",
    "    for i in range(len(individual)):\n",
    "        if random.random() < MUTATION_PERCENTAGE:\n",
    "            shape = individual[i].shape\n",
    "            individual[i] += np.random.randn(*shape) * 0.1\n",
    "    return individual\n",
    "\n",
    "# Define the main function to run the genetic algorithm\n",
    "def main():\n",
    "    population = [create_individual() for _ in range(POPULATION_SIZE)]\n",
    "    for generation in range(GENERATIONS):\n",
    "        print(\"Generation\", generation+1)\n",
    "        fitness_scores = []\n",
    "        for individual in population:\n",
    "            fitness_scores.append((individual, fitness_func(individual)))\n",
    "        fitness_scores = sorted(fitness_scores, key=lambda x: x[1], reverse=True)\n",
    "        print(\"Best individual:\", fitness_scores[0][1])\n",
    "        parents = [x[0] for x in fitness_scores[:int(len(population)*PARENTS_PERCENTAGE)]]\n",
    "        new_population = parents[:]\n",
    "        for _ in range(int(len(population)*PARENTS_PERCENTAGE), POPULATION_SIZE):\n",
    "            parent_1 = random.choice(parents)\n",
    "            parent_2 = random.choice(parents)\n",
    "            child = crossover(parent_1, parent_2)\n",
    "            child = mutate(child)\n",
    "            new_population.append(child)\n",
    "        population = new_population\n",
    "    best_individual = fitness_scores[0][0]\n",
    "    model.set_weights(best_individual)\n",
    "main()"
   ]
  },
  {
   "cell_type": "markdown",
   "metadata": {},
   "source": []
  },
  {
   "cell_type": "code",
   "execution_count": 24,
   "metadata": {},
   "outputs": [
    {
     "ename": "ModuleNotFoundError",
     "evalue": "No module named 'cpea'",
     "output_type": "error",
     "traceback": [
      "\u001b[0;31m---------------------------------------------------------------------------\u001b[0m",
      "\u001b[0;31mModuleNotFoundError\u001b[0m                       Traceback (most recent call last)",
      "Cell \u001b[0;32mIn [24], line 5\u001b[0m\n\u001b[1;32m      3\u001b[0m \u001b[38;5;28;01mfrom\u001b[39;00m \u001b[38;5;21;01msklearn\u001b[39;00m\u001b[38;5;21;01m.\u001b[39;00m\u001b[38;5;21;01mmetrics\u001b[39;00m \u001b[38;5;28;01mimport\u001b[39;00m accuracy_score\n\u001b[1;32m      4\u001b[0m \u001b[38;5;28;01mfrom\u001b[39;00m \u001b[38;5;21;01msklearn\u001b[39;00m\u001b[38;5;21;01m.\u001b[39;00m\u001b[38;5;21;01mmodel_selection\u001b[39;00m \u001b[38;5;28;01mimport\u001b[39;00m train_test_split\n\u001b[0;32m----> 5\u001b[0m \u001b[38;5;28;01mfrom\u001b[39;00m \u001b[38;5;21;01mcpea\u001b[39;00m \u001b[38;5;28;01mimport\u001b[39;00m CulturalEvolutionaryAlgorithm\n\u001b[1;32m      6\u001b[0m \u001b[38;5;28;01mimport\u001b[39;00m \u001b[38;5;21;01mnumpy\u001b[39;00m \u001b[38;5;28;01mas\u001b[39;00m \u001b[38;5;21;01mnp\u001b[39;00m\n\u001b[1;32m      8\u001b[0m \u001b[38;5;66;03m# Define the fitness function\u001b[39;00m\n",
      "\u001b[0;31mModuleNotFoundError\u001b[0m: No module named 'cpea'"
     ]
    }
   ],
   "source": [
    "from keras.models import Sequential\n",
    "from keras.layers import Dense\n",
    "from sklearn.metrics import accuracy_score\n",
    "from sklearn.model_selection import train_test_split\n",
    "from pyeasyga import CulturalEvolutionaryAlgorithm\n",
    "import numpy as np\n",
    "\n",
    "# Define the fitness function\n",
    "def evaluate(individual):\n",
    "    # Set the weights for the neural network\n",
    "    model.set_weights(individual)\n",
    "    \n",
    "    # Train the model\n",
    "    model.fit(X_train, y_train, epochs=20, batch_size=1, verbose=0)\n",
    "    \n",
    "    # Evaluate the model on the test set\n",
    "    y_pred = model.predict(X_test)\n",
    "    accuracy = accuracy_score(y_test, np.round(y_pred))\n",
    "    \n",
    "    # Return the negative accuracy as the fitness (since CEA minimizes the fitness)\n",
    "    return -accuracy,\n",
    "\n",
    "# Load the dataset\n",
    "df = pd.read_csv(r'/Users/cra/Downloads/Bank_Personal_Loan_Modelling.csv')\n",
    "df = df[['Age', 'Experience', 'Income', 'Family', 'CCAvg','Education', 'Mortgage', 'Securities Account','CD Account', 'Online', 'CreditCard', 'Personal Loan']]\n",
    "X = df.iloc[:,:-1].values\n",
    "y = df.iloc[:,-1].values\n",
    "\n",
    "# Split the dataset into training and testing sets\n",
    "X_train, X_test, y_train, y_test = train_test_split(X, y, random_state=104, test_size=0.25)\n",
    "\n",
    "# Create the neural network model\n",
    "model = Sequential()\n",
    "model.add(Dense(4, activation='relu'))\n",
    "model.add(Dense(1, activation='sigmoid'))\n",
    "\n",
    "# Set up the cultural evolutionary algorithm\n",
    "cea = CulturalEvolutionaryAlgorithm(individual_size=model.count_params(),\n",
    "                                    evaluation_function=evaluate,\n",
    "                                    population_size=20,\n",
    "                                    generation_count=50,\n",
    "                                    belief_space_size=5,\n",
    "                                    communication_probability=0.5,\n",
    "                                    exploration_probability=0.5)\n",
    "\n",
    "# Run the optimization process\n",
    "best_weights, best_fitness = cea.evolve()\n",
    "\n",
    "# Set the best weights to the neural network\n",
    "model.set_weights(best_weights)\n",
    "\n",
    "# Train the neural network with the best weights\n",
    "model.fit(X_train, y_train, epochs=20, batch_size=1, verbose=0)\n",
    "\n",
    "# Evaluate the accuracy of the neural network with the best weights\n",
    "y_pred = model.predict(X_test)\n",
    "accuracy = accuracy_score(y_test, np.round(y_pred))\n",
    "\n",
    "print(\"Best fitness:\", best_fitness)\n",
    "print(\"Accuracy with best weights:\", accuracy)\n"
   ]
  },
  {
   "cell_type": "code",
   "execution_count": null,
   "metadata": {},
   "outputs": [],
   "source": []
  }
 ],
 "metadata": {
  "kernelspec": {
   "display_name": "Python 3.10.8 64-bit",
   "language": "python",
   "name": "python3"
  },
  "language_info": {
   "codemirror_mode": {
    "name": "ipython",
    "version": 3
   },
   "file_extension": ".py",
   "mimetype": "text/x-python",
   "name": "python",
   "nbconvert_exporter": "python",
   "pygments_lexer": "ipython3",
   "version": "3.10.8"
  },
  "orig_nbformat": 4,
  "vscode": {
   "interpreter": {
    "hash": "aee8b7b246df8f9039afb4144a1f6fd8d2ca17a180786b69acc140d282b71a49"
   }
  }
 },
 "nbformat": 4,
 "nbformat_minor": 2
}
